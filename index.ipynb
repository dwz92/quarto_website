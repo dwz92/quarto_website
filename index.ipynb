{
  "cells": [
    {
      "cell_type": "raw",
      "metadata": {},
      "source": [
        "---\n",
        "title: \"\"\n",
        "---"
      ],
      "id": "518fa350"
    },
    {
      "cell_type": "markdown",
      "metadata": {},
      "source": [
        "```{HTML}\n",
        "<head>\n",
        "  <meta charset=\"UTF-8\">\n",
        "  <title>Hello</title>\n",
        "  <link rel=\"stylesheet\" href=\"index-style.css\">\n",
        "<link rel=\"stylesheet\" href=\"https://cdnjs.cloudflare.com/ajax/libs/normalize/5.0.0/normalize.min.css\">\n",
        "\n",
        "</head>\n",
        "<body>\n",
        "<!-- partial:index.partial.html -->\n",
        "<div class=\"background blue-purple\"></div>\n",
        "<div class=\"background green-blue\"></div>\n",
        "<div class=\"container\">\n",
        "  <div class=\"sky\">\n",
        "    <div class=\"text\">HI! THIS IS EMMA :D</div>\n",
        "    <div class=\"stars\"></div>\n",
        "    <div class=\"stars1\"></div>\n",
        "    <div class=\"stars2\"></div>\n",
        "    <div class=\"shooting-stars\"></div>\n",
        "  </div>\n",
        "</div>\n",
        "<!-- partial -->\n",
        "  \n",
        "</body>\n",
        "```"
      ],
      "id": "82895bd0"
    }
  ],
  "metadata": {
    "kernelspec": {
      "display_name": "Python 3",
      "language": "python",
      "name": "python3"
    }
  },
  "nbformat": 4,
  "nbformat_minor": 5
}